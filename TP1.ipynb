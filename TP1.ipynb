{
 "cells": [
  {
   "cell_type": "markdown",
   "id": "6bb3bf03",
   "metadata": {},
   "source": [
    "# Trabajo Práctico 1\n",
    "## Materia : \"ELEMENTOS DE APRENDIZAJE DE MÁQUINA Y BIG DATA\""
   ]
  }
 ],
 "metadata": {
  "kernelspec": {
   "display_name": "Python 3",
   "language": "python",
   "name": "python3"
  },
  "language_info": {
   "name": "python",
   "version": "3.11.9"
  }
 },
 "nbformat": 4,
 "nbformat_minor": 5
}

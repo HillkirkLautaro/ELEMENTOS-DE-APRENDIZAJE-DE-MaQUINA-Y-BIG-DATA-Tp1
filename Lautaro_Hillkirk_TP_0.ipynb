{
 "cells": [
  {
   "cell_type": "markdown",
   "id": "6bb3bf03",
   "metadata": {},
   "source": [
    "# Trabajo Práctico 1\n",
    "## Materia : \"ELEMENTOS DE APRENDIZAJE DE MÁQUINA Y BIG DATA\"\n",
    "\n",
    "Consignas en el pdf."
   ]
  },
  {
   "cell_type": "markdown",
   "id": "89d1d609",
   "metadata": {},
   "source": [
    "### Exploración\n",
    "- a) Mostrar las primeras 5 filas del DataFrame.\n",
    "- b) Obtener las dimensiones del DataFrame.\n",
    "- c) Mostrar los tipos de datos de cada columna.\n",
    "- d) ¿Cuántos valores faltantes hay por columna?"
   ]
  },
  {
   "cell_type": "code",
   "execution_count": 2,
   "id": "d5cc1616",
   "metadata": {},
   "outputs": [
    {
     "data": {
      "text/html": [
       "<div>\n",
       "<style scoped>\n",
       "    .dataframe tbody tr th:only-of-type {\n",
       "        vertical-align: middle;\n",
       "    }\n",
       "\n",
       "    .dataframe tbody tr th {\n",
       "        vertical-align: top;\n",
       "    }\n",
       "\n",
       "    .dataframe thead th {\n",
       "        text-align: right;\n",
       "    }\n",
       "</style>\n",
       "<table border=\"1\" class=\"dataframe\">\n",
       "  <thead>\n",
       "    <tr style=\"text-align: right;\">\n",
       "      <th></th>\n",
       "      <th>CustomerID</th>\n",
       "      <th>Gender</th>\n",
       "      <th>Age</th>\n",
       "      <th>Annual Income (k$)</th>\n",
       "      <th>Spending Score (1-100)</th>\n",
       "    </tr>\n",
       "  </thead>\n",
       "  <tbody>\n",
       "    <tr>\n",
       "      <th>0</th>\n",
       "      <td>1</td>\n",
       "      <td>Male</td>\n",
       "      <td>19.0</td>\n",
       "      <td>15.0</td>\n",
       "      <td>39.0</td>\n",
       "    </tr>\n",
       "    <tr>\n",
       "      <th>1</th>\n",
       "      <td>2</td>\n",
       "      <td>Male</td>\n",
       "      <td>21.0</td>\n",
       "      <td>15.0</td>\n",
       "      <td>NaN</td>\n",
       "    </tr>\n",
       "    <tr>\n",
       "      <th>2</th>\n",
       "      <td>3</td>\n",
       "      <td>Female</td>\n",
       "      <td>20.0</td>\n",
       "      <td>16.0</td>\n",
       "      <td>6.0</td>\n",
       "    </tr>\n",
       "    <tr>\n",
       "      <th>3</th>\n",
       "      <td>4</td>\n",
       "      <td>Female</td>\n",
       "      <td>23.0</td>\n",
       "      <td>16.0</td>\n",
       "      <td>NaN</td>\n",
       "    </tr>\n",
       "    <tr>\n",
       "      <th>4</th>\n",
       "      <td>5</td>\n",
       "      <td>Female</td>\n",
       "      <td>31.0</td>\n",
       "      <td>NaN</td>\n",
       "      <td>40.0</td>\n",
       "    </tr>\n",
       "  </tbody>\n",
       "</table>\n",
       "</div>"
      ],
      "text/plain": [
       "   CustomerID  Gender   Age  Annual Income (k$)  Spending Score (1-100)\n",
       "0           1    Male  19.0                15.0                    39.0\n",
       "1           2    Male  21.0                15.0                     NaN\n",
       "2           3  Female  20.0                16.0                     6.0\n",
       "3           4  Female  23.0                16.0                     NaN\n",
       "4           5  Female  31.0                 NaN                    40.0"
      ]
     },
     "execution_count": 2,
     "metadata": {},
     "output_type": "execute_result"
    }
   ],
   "source": [
    "import pandas as pd # Importando la libreria\n",
    "\n",
    "df = pd.read_csv(\"data/Clientes.csv\") # Cargando el DataFrame desde un archivo CSV\n",
    "df.head()  # Mostrando las primeras 5 filas del DataFrame"
   ]
  },
  {
   "cell_type": "code",
   "execution_count": 3,
   "id": "7a143337",
   "metadata": {},
   "outputs": [
    {
     "data": {
      "text/plain": [
       "(200, 5)"
      ]
     },
     "execution_count": 3,
     "metadata": {},
     "output_type": "execute_result"
    }
   ],
   "source": [
    "df.shape  # Obteniendo las dimensiones del DataFrame"
   ]
  },
  {
   "cell_type": "code",
   "execution_count": 4,
   "id": "90dc19e5",
   "metadata": {},
   "outputs": [
    {
     "data": {
      "text/plain": [
       "CustomerID                  int64\n",
       "Gender                     object\n",
       "Age                       float64\n",
       "Annual Income (k$)        float64\n",
       "Spending Score (1-100)    float64\n",
       "dtype: object"
      ]
     },
     "execution_count": 4,
     "metadata": {},
     "output_type": "execute_result"
    }
   ],
   "source": [
    "df.dtypes  # Mostrando los tipos de datos de cada columna"
   ]
  },
  {
   "cell_type": "code",
   "execution_count": 5,
   "id": "435ea42b",
   "metadata": {},
   "outputs": [
    {
     "data": {
      "text/plain": [
       "CustomerID                 0\n",
       "Gender                    15\n",
       "Age                       13\n",
       "Annual Income (k$)         9\n",
       "Spending Score (1-100)    18\n",
       "dtype: int64"
      ]
     },
     "execution_count": 5,
     "metadata": {},
     "output_type": "execute_result"
    }
   ],
   "source": [
    "df.isnull().sum()  # Contando los valores faltantes por columna"
   ]
  },
  {
   "cell_type": "markdown",
   "id": "1cb7ad6d",
   "metadata": {},
   "source": [
    "### Limpieza de datos\n",
    "- e) Eliminar las filas que tengan al menos un valor nulo."
   ]
  },
  {
   "cell_type": "code",
   "execution_count": 6,
   "id": "f35eb742",
   "metadata": {},
   "outputs": [],
   "source": [
    "df.dropna(inplace=True)  # Eliminando las filas que tienen al menos un valor nulo"
   ]
  },
  {
   "cell_type": "code",
   "execution_count": 7,
   "id": "a311dd9f",
   "metadata": {},
   "outputs": [
    {
     "data": {
      "text/plain": [
       "CustomerID                0\n",
       "Gender                    0\n",
       "Age                       0\n",
       "Annual Income (k$)        0\n",
       "Spending Score (1-100)    0\n",
       "dtype: int64"
      ]
     },
     "execution_count": 7,
     "metadata": {},
     "output_type": "execute_result"
    }
   ],
   "source": [
    "df.isnull().sum()  # Verificando nuevamente los valores faltantes por columna"
   ]
  },
  {
   "cell_type": "markdown",
   "id": "c74e8209",
   "metadata": {},
   "source": [
    "### Filtrado de datos\n",
    "- f) ¿Cuántos clientes hay de género femenino?\n",
    "- g) ¿Qué clientes tienen un Spending Score mayor a 70?\n",
    "- h) Mostrar solo a los clientes entre 18 y 25 años que tengan un ingreso anualmayor a 15k"
   ]
  },
  {
   "cell_type": "code",
   "execution_count": 8,
   "id": "b6679b67",
   "metadata": {},
   "outputs": [
    {
     "data": {
      "text/plain": [
       "83"
      ]
     },
     "execution_count": 8,
     "metadata": {},
     "output_type": "execute_result"
    }
   ],
   "source": [
    "cantidad_clientes_femeninos = df[df['Gender'] == 'Female'].shape[0] # Contando la cantidad de clientes femeninos\n",
    "cantidad_clientes_femeninos"
   ]
  },
  {
   "cell_type": "code",
   "execution_count": 9,
   "id": "b84771f7",
   "metadata": {},
   "outputs": [
    {
     "data": {
      "text/plain": [
       "38"
      ]
     },
     "execution_count": 9,
     "metadata": {},
     "output_type": "execute_result"
    }
   ],
   "source": [
    "clientes_con_spending_score_mayor_70 = df[df['Spending Score (1-100)'] > 70].shape[0]  # Contando la cantidad de clientes con un Spending Score mayor a 70\n",
    "clientes_con_spending_score_mayor_70"
   ]
  },
  {
   "cell_type": "code",
   "execution_count": 10,
   "id": "c9b31ea3",
   "metadata": {},
   "outputs": [
    {
     "data": {
      "text/plain": [
       "27"
      ]
     },
     "execution_count": 10,
     "metadata": {},
     "output_type": "execute_result"
    }
   ],
   "source": [
    "clientes_18_25_ingreso_mayor_15k = df[(df['Age'] >= 18) & (df['Age'] <= 25) & (df['Annual Income (k$)'] > 15)].shape[0]  # Contando la cantidad de clientes entre 18 y 25 años con ingreso mayor a 15k\n",
    "clientes_18_25_ingreso_mayor_15k"
   ]
  },
  {
   "cell_type": "markdown",
   "id": "8fc74af9",
   "metadata": {},
   "source": [
    "### Estadísticas descriptivas\n",
    "- i) Calcular la edad media de los clientes.\n",
    "- j) ¿Cuál es el ingreso anual promedio por género?\n",
    "- k) ¿Cuál es el Spending Score mínimo, máximo y promedio?"
   ]
  },
  {
   "cell_type": "code",
   "execution_count": null,
   "id": "078aa15f",
   "metadata": {},
   "outputs": [
    {
     "data": {
      "text/plain": [
       "39.053333333333335"
      ]
     },
     "execution_count": 15,
     "metadata": {},
     "output_type": "execute_result"
    }
   ],
   "source": [
    "Edad_media = df['Age'].mean()  # Calculando la edad media de los clientes\n",
    "float(Edad_media) # convirtiendo a float, ya que la salida en un principio es np.float64()"
   ]
  },
  {
   "cell_type": "code",
   "execution_count": 16,
   "id": "79609c72",
   "metadata": {},
   "outputs": [
    {
     "data": {
      "text/plain": [
       "62.79333333333334"
      ]
     },
     "execution_count": 16,
     "metadata": {},
     "output_type": "execute_result"
    }
   ],
   "source": [
    "ingreso_anual_promedio = df[\"Annual Income (k$)\"].mean()\n",
    "float(ingreso_anual_promedio) # convirtiendo a float, ya que la salida en un principio es np.float64()"
   ]
  },
  {
   "cell_type": "code",
   "execution_count": 19,
   "id": "7c12c1ee",
   "metadata": {},
   "outputs": [
    {
     "data": {
      "text/plain": [
       "1.0"
      ]
     },
     "execution_count": 19,
     "metadata": {},
     "output_type": "execute_result"
    }
   ],
   "source": [
    "Spending_score_minimo = df[\"Spending Score (1-100)\"].min()  # Obteniendo el Spending Score mínimo\n",
    "float(Spending_score_minimo) # convirtiendo a float para que el numero salga directo."
   ]
  }
 ],
 "metadata": {
  "kernelspec": {
   "display_name": ".venv (3.13.5)",
   "language": "python",
   "name": "python3"
  },
  "language_info": {
   "codemirror_mode": {
    "name": "ipython",
    "version": 3
   },
   "file_extension": ".py",
   "mimetype": "text/x-python",
   "name": "python",
   "nbconvert_exporter": "python",
   "pygments_lexer": "ipython3",
   "version": "3.13.5"
  }
 },
 "nbformat": 4,
 "nbformat_minor": 5
}

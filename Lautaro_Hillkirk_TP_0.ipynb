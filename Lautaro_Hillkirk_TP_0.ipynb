{
 "cells": [
  {
   "cell_type": "markdown",
   "id": "6bb3bf03",
   "metadata": {},
   "source": [
    "# Trabajo Práctico 1\n",
    "## Materia : \"ELEMENTOS DE APRENDIZAJE DE MÁQUINA Y BIG DATA\"\n",
    "\n",
    "Consignas en el pdf."
   ]
  },
  {
   "cell_type": "markdown",
   "id": "89d1d609",
   "metadata": {},
   "source": [
    "### Exploración\n",
    "- a) Mostrar las primeras 5 filas del DataFrame.\n",
    "- b) Obtener las dimensiones del DataFrame.\n",
    "- c) Mostrar los tipos de datos de cada columna.\n",
    "- d) ¿Cuántos valores faltantes hay por columna?"
   ]
  },
  {
   "cell_type": "code",
   "execution_count": 2,
   "id": "d5cc1616",
   "metadata": {},
   "outputs": [
    {
     "data": {
      "text/html": [
       "<div>\n",
       "<style scoped>\n",
       "    .dataframe tbody tr th:only-of-type {\n",
       "        vertical-align: middle;\n",
       "    }\n",
       "\n",
       "    .dataframe tbody tr th {\n",
       "        vertical-align: top;\n",
       "    }\n",
       "\n",
       "    .dataframe thead th {\n",
       "        text-align: right;\n",
       "    }\n",
       "</style>\n",
       "<table border=\"1\" class=\"dataframe\">\n",
       "  <thead>\n",
       "    <tr style=\"text-align: right;\">\n",
       "      <th></th>\n",
       "      <th>CustomerID</th>\n",
       "      <th>Gender</th>\n",
       "      <th>Age</th>\n",
       "      <th>Annual Income (k$)</th>\n",
       "      <th>Spending Score (1-100)</th>\n",
       "    </tr>\n",
       "  </thead>\n",
       "  <tbody>\n",
       "    <tr>\n",
       "      <th>0</th>\n",
       "      <td>1</td>\n",
       "      <td>Male</td>\n",
       "      <td>19.0</td>\n",
       "      <td>15.0</td>\n",
       "      <td>39.0</td>\n",
       "    </tr>\n",
       "    <tr>\n",
       "      <th>1</th>\n",
       "      <td>2</td>\n",
       "      <td>Male</td>\n",
       "      <td>21.0</td>\n",
       "      <td>15.0</td>\n",
       "      <td>NaN</td>\n",
       "    </tr>\n",
       "    <tr>\n",
       "      <th>2</th>\n",
       "      <td>3</td>\n",
       "      <td>Female</td>\n",
       "      <td>20.0</td>\n",
       "      <td>16.0</td>\n",
       "      <td>6.0</td>\n",
       "    </tr>\n",
       "    <tr>\n",
       "      <th>3</th>\n",
       "      <td>4</td>\n",
       "      <td>Female</td>\n",
       "      <td>23.0</td>\n",
       "      <td>16.0</td>\n",
       "      <td>NaN</td>\n",
       "    </tr>\n",
       "    <tr>\n",
       "      <th>4</th>\n",
       "      <td>5</td>\n",
       "      <td>Female</td>\n",
       "      <td>31.0</td>\n",
       "      <td>NaN</td>\n",
       "      <td>40.0</td>\n",
       "    </tr>\n",
       "  </tbody>\n",
       "</table>\n",
       "</div>"
      ],
      "text/plain": [
       "   CustomerID  Gender   Age  Annual Income (k$)  Spending Score (1-100)\n",
       "0           1    Male  19.0                15.0                    39.0\n",
       "1           2    Male  21.0                15.0                     NaN\n",
       "2           3  Female  20.0                16.0                     6.0\n",
       "3           4  Female  23.0                16.0                     NaN\n",
       "4           5  Female  31.0                 NaN                    40.0"
      ]
     },
     "execution_count": 2,
     "metadata": {},
     "output_type": "execute_result"
    }
   ],
   "source": [
    "import pandas as pd # Importando la libreria\n",
    "\n",
    "df = pd.read_csv(\"data/Clientes.csv\") # Cargando el DataFrame desde un archivo CSV\n",
    "df.head()  # Mostrando las primeras 5 filas del DataFrame"
   ]
  },
  {
   "cell_type": "code",
   "execution_count": 3,
   "id": "7a143337",
   "metadata": {},
   "outputs": [
    {
     "data": {
      "text/plain": [
       "(200, 5)"
      ]
     },
     "execution_count": 3,
     "metadata": {},
     "output_type": "execute_result"
    }
   ],
   "source": [
    "df.shape  # Obteniendo las dimensiones del DataFrame"
   ]
  },
  {
   "cell_type": "code",
   "execution_count": 4,
   "id": "90dc19e5",
   "metadata": {},
   "outputs": [
    {
     "data": {
      "text/plain": [
       "CustomerID                  int64\n",
       "Gender                     object\n",
       "Age                       float64\n",
       "Annual Income (k$)        float64\n",
       "Spending Score (1-100)    float64\n",
       "dtype: object"
      ]
     },
     "execution_count": 4,
     "metadata": {},
     "output_type": "execute_result"
    }
   ],
   "source": [
    "df.dtypes  # Mostrando los tipos de datos de cada columna"
   ]
  },
  {
   "cell_type": "code",
   "execution_count": 5,
   "id": "435ea42b",
   "metadata": {},
   "outputs": [
    {
     "data": {
      "text/plain": [
       "CustomerID                 0\n",
       "Gender                    15\n",
       "Age                       13\n",
       "Annual Income (k$)         9\n",
       "Spending Score (1-100)    18\n",
       "dtype: int64"
      ]
     },
     "execution_count": 5,
     "metadata": {},
     "output_type": "execute_result"
    }
   ],
   "source": [
    "df.isnull().sum()  # Contando los valores faltantes por columna"
   ]
  },
  {
   "cell_type": "markdown",
   "id": "1cb7ad6d",
   "metadata": {},
   "source": [
    "### Limpieza de datos\n",
    "- e) Eliminar las filas que tengan al menos un valor nulo."
   ]
  },
  {
   "cell_type": "code",
   "execution_count": 6,
   "id": "f35eb742",
   "metadata": {},
   "outputs": [],
   "source": [
    "df.dropna(inplace=True)  # Eliminando las filas que tienen al menos un valor nulo"
   ]
  },
  {
   "cell_type": "code",
   "execution_count": 7,
   "id": "a311dd9f",
   "metadata": {},
   "outputs": [
    {
     "data": {
      "text/plain": [
       "CustomerID                0\n",
       "Gender                    0\n",
       "Age                       0\n",
       "Annual Income (k$)        0\n",
       "Spending Score (1-100)    0\n",
       "dtype: int64"
      ]
     },
     "execution_count": 7,
     "metadata": {},
     "output_type": "execute_result"
    }
   ],
   "source": [
    "df.isnull().sum()  # Verificando nuevamente los valores faltantes por columna"
   ]
  },
  {
   "cell_type": "markdown",
   "id": "c74e8209",
   "metadata": {},
   "source": [
    "### Filtrado de datos\n",
    "- f) ¿Cuántos clientes hay de género femenino?\n",
    "- g) ¿Qué clientes tienen un Spending Score mayor a 70?\n",
    "- h) Mostrar solo a los clientes entre 18 y 25 años que tengan un ingreso anualmayor a 15k"
   ]
  },
  {
   "cell_type": "code",
   "execution_count": 8,
   "id": "b6679b67",
   "metadata": {},
   "outputs": [
    {
     "data": {
      "text/plain": [
       "83"
      ]
     },
     "execution_count": 8,
     "metadata": {},
     "output_type": "execute_result"
    }
   ],
   "source": [
    "cantidad_clientes_femeninos = df[df['Gender'] == 'Female'].shape[0] # Contando la cantidad de clientes femeninos\n",
    "cantidad_clientes_femeninos"
   ]
  },
  {
   "cell_type": "code",
   "execution_count": 9,
   "id": "b84771f7",
   "metadata": {},
   "outputs": [
    {
     "data": {
      "text/plain": [
       "38"
      ]
     },
     "execution_count": 9,
     "metadata": {},
     "output_type": "execute_result"
    }
   ],
   "source": [
    "clientes_con_spending_score_mayor_70 = df[df['Spending Score (1-100)'] > 70].shape[0]  # Contando la cantidad de clientes con un Spending Score mayor a 70\n",
    "clientes_con_spending_score_mayor_70"
   ]
  },
  {
   "cell_type": "code",
   "execution_count": 10,
   "id": "c9b31ea3",
   "metadata": {},
   "outputs": [
    {
     "data": {
      "text/plain": [
       "27"
      ]
     },
     "execution_count": 10,
     "metadata": {},
     "output_type": "execute_result"
    }
   ],
   "source": [
    "clientes_18_25_ingreso_mayor_15k = df[(df['Age'] >= 18) & (df['Age'] <= 25) & (df['Annual Income (k$)'] > 15)].shape[0]  # Contando la cantidad de clientes entre 18 y 25 años con ingreso mayor a 15k\n",
    "clientes_18_25_ingreso_mayor_15k"
   ]
  },
  {
   "cell_type": "markdown",
   "id": "8fc74af9",
   "metadata": {},
   "source": [
    "### Estadísticas descriptivas\n",
    "- i) Calcular la edad media de los clientes.\n",
    "- j) ¿Cuál es el ingreso anual promedio por género?\n",
    "- k) ¿Cuál es el Spending Score mínimo, máximo y promedio?"
   ]
  },
  {
   "cell_type": "code",
   "execution_count": null,
   "id": "078aa15f",
   "metadata": {},
   "outputs": [
    {
     "data": {
      "text/plain": [
       "39.053333333333335"
      ]
     },
     "execution_count": 15,
     "metadata": {},
     "output_type": "execute_result"
    }
   ],
   "source": [
    "Edad_media = df['Age'].mean()  # Calculando la edad media de los clientes\n",
    "float(Edad_media) # convirtiendo a float, ya que la salida en un principio es np.float64()"
   ]
  },
  {
   "cell_type": "code",
   "execution_count": 16,
   "id": "79609c72",
   "metadata": {},
   "outputs": [
    {
     "data": {
      "text/plain": [
       "62.79333333333334"
      ]
     },
     "execution_count": 16,
     "metadata": {},
     "output_type": "execute_result"
    }
   ],
   "source": [
    "ingreso_anual_promedio = df[\"Annual Income (k$)\"].mean()\n",
    "float(ingreso_anual_promedio) # convirtiendo a float, ya que la salida en un principio es np.float64()"
   ]
  },
  {
   "cell_type": "code",
   "execution_count": 19,
   "id": "7c12c1ee",
   "metadata": {},
   "outputs": [
    {
     "data": {
      "text/plain": [
       "1.0"
      ]
     },
     "execution_count": 19,
     "metadata": {},
     "output_type": "execute_result"
    }
   ],
   "source": [
    "Spending_score_minimo = df[\"Spending Score (1-100)\"].min()  # Obteniendo el Spending Score mínimo\n",
    "float(Spending_score_minimo) # convirtiendo a float para que el numero salga directo."
   ]
  },
  {
   "cell_type": "code",
   "execution_count": 20,
   "id": "556b7383",
   "metadata": {},
   "outputs": [
    {
     "data": {
      "text/plain": [
       "98.0"
      ]
     },
     "execution_count": 20,
     "metadata": {},
     "output_type": "execute_result"
    }
   ],
   "source": [
    "Spending_score_maximo = df[\"Spending Score (1-100)\"].max()  # Obteniendo el Spending Score máximo\n",
    "float(Spending_score_maximo) # convirtiendo a float para que el numero salga directo."
   ]
  },
  {
   "cell_type": "code",
   "execution_count": 21,
   "id": "258a59ff",
   "metadata": {},
   "outputs": [
    {
     "data": {
      "text/plain": [
       "49.553333333333335"
      ]
     },
     "execution_count": 21,
     "metadata": {},
     "output_type": "execute_result"
    }
   ],
   "source": [
    "Spending_score_promedio = df[\"Spending Score (1-100)\"].mean()  # Obteniendo el Spending Score promedio\n",
    "float(Spending_score_promedio) # convirtiendo a float para que el numero salga directo."
   ]
  },
  {
   "cell_type": "markdown",
   "id": "0e9d776a",
   "metadata": {},
   "source": [
    "### Agrupamiento y agregaciones\n",
    "- r) Agrupar por Gender y calcular la media de todas las columnas numéricas.\n",
    "- m) Agrupar por grupos de edad (ejemplo: <30, 30-50, >50) y obtener la media de ingreso."
   ]
  },
  {
   "cell_type": "code",
   "execution_count": 26,
   "id": "be3fa21c",
   "metadata": {},
   "outputs": [
    {
     "data": {
      "text/html": [
       "<div>\n",
       "<style scoped>\n",
       "    .dataframe tbody tr th:only-of-type {\n",
       "        vertical-align: middle;\n",
       "    }\n",
       "\n",
       "    .dataframe tbody tr th {\n",
       "        vertical-align: top;\n",
       "    }\n",
       "\n",
       "    .dataframe thead th {\n",
       "        text-align: right;\n",
       "    }\n",
       "</style>\n",
       "<table border=\"1\" class=\"dataframe\">\n",
       "  <thead>\n",
       "    <tr style=\"text-align: right;\">\n",
       "      <th></th>\n",
       "      <th>CustomerID</th>\n",
       "      <th>Age</th>\n",
       "      <th>Annual Income (k$)</th>\n",
       "      <th>Spending Score (1-100)</th>\n",
       "    </tr>\n",
       "    <tr>\n",
       "      <th>Gender</th>\n",
       "      <th></th>\n",
       "      <th></th>\n",
       "      <th></th>\n",
       "      <th></th>\n",
       "    </tr>\n",
       "  </thead>\n",
       "  <tbody>\n",
       "    <tr>\n",
       "      <th>Female</th>\n",
       "      <td>105.060241</td>\n",
       "      <td>38.759036</td>\n",
       "      <td>62.807229</td>\n",
       "      <td>49.614458</td>\n",
       "    </tr>\n",
       "    <tr>\n",
       "      <th>Male</th>\n",
       "      <td>104.477612</td>\n",
       "      <td>39.417910</td>\n",
       "      <td>62.776119</td>\n",
       "      <td>49.477612</td>\n",
       "    </tr>\n",
       "  </tbody>\n",
       "</table>\n",
       "</div>"
      ],
      "text/plain": [
       "        CustomerID        Age  Annual Income (k$)  Spending Score (1-100)\n",
       "Gender                                                                   \n",
       "Female  105.060241  38.759036           62.807229               49.614458\n",
       "Male    104.477612  39.417910           62.776119               49.477612"
      ]
     },
     "execution_count": 26,
     "metadata": {},
     "output_type": "execute_result"
    }
   ],
   "source": [
    "agrupacion_por_gender = df.groupby(\"Gender\")  # Agrupando por género y calculando la media\n",
    "agrupacion_por_gender.mean()"
   ]
  },
  {
   "cell_type": "code",
   "execution_count": 30,
   "id": "ebfd8292",
   "metadata": {},
   "outputs": [
    {
     "name": "stderr",
     "output_type": "stream",
     "text": [
      "C:\\Users\\hillk\\AppData\\Local\\Temp\\ipykernel_8608\\710059156.py:1: FutureWarning: The default of observed=False is deprecated and will be changed to True in a future version of pandas. Pass observed=False to retain current behavior or observed=True to adopt the future default and silence this warning.\n",
      "  agrupamiento_por_age = df.groupby(pd.cut(df['Age'], bins=[0, 30, 50, 100], labels=['<30', '30-50', '>50']))  # Agrupando por grupos de edad\n"
     ]
    },
    {
     "data": {
      "text/plain": [
       "Age\n",
       "<30      57.636364\n",
       "30-50    69.920000\n",
       ">50      52.870968\n",
       "Name: Annual Income (k$), dtype: float64"
      ]
     },
     "execution_count": 30,
     "metadata": {},
     "output_type": "execute_result"
    }
   ],
   "source": [
    "agrupamiento_por_age = df.groupby(pd.cut(df['Age'], bins=[0, 30, 50, 100], labels=['<30', '30-50', '>50']))  # Agrupando por grupos de edad\n",
    "agrupamiento_por_age[\"Annual Income (k$)\"].mean() # Calculando la media del ingreso anual por grupo de edad"
   ]
  },
  {
   "cell_type": "markdown",
   "id": "3ea3849c",
   "metadata": {},
   "source": [
    "### Creación de nuevas columnas\n",
    "- n) Crear una columna llamada Income_Category que tenga:\n",
    "Low si Annual Income < 20\n",
    "Medium si 20 <= Income < 40 \n",
    "High si Income >= 40\n",
    "- o) Crear una columna Age_Group con categorías: Joven (<30), Adulto (30-60),Mayor (>60)\n"
   ]
  },
  {
   "cell_type": "code",
   "execution_count": 36,
   "id": "323f8bdc",
   "metadata": {},
   "outputs": [
    {
     "data": {
      "text/html": [
       "<div>\n",
       "<style scoped>\n",
       "    .dataframe tbody tr th:only-of-type {\n",
       "        vertical-align: middle;\n",
       "    }\n",
       "\n",
       "    .dataframe tbody tr th {\n",
       "        vertical-align: top;\n",
       "    }\n",
       "\n",
       "    .dataframe thead th {\n",
       "        text-align: right;\n",
       "    }\n",
       "</style>\n",
       "<table border=\"1\" class=\"dataframe\">\n",
       "  <thead>\n",
       "    <tr style=\"text-align: right;\">\n",
       "      <th></th>\n",
       "      <th>CustomerID</th>\n",
       "      <th>Gender</th>\n",
       "      <th>Age</th>\n",
       "      <th>Annual Income (k$)</th>\n",
       "      <th>Spending Score (1-100)</th>\n",
       "      <th>Income_Category</th>\n",
       "    </tr>\n",
       "  </thead>\n",
       "  <tbody>\n",
       "    <tr>\n",
       "      <th>0</th>\n",
       "      <td>1</td>\n",
       "      <td>Male</td>\n",
       "      <td>19.0</td>\n",
       "      <td>15.0</td>\n",
       "      <td>39.0</td>\n",
       "      <td>Low</td>\n",
       "    </tr>\n",
       "    <tr>\n",
       "      <th>2</th>\n",
       "      <td>3</td>\n",
       "      <td>Female</td>\n",
       "      <td>20.0</td>\n",
       "      <td>16.0</td>\n",
       "      <td>6.0</td>\n",
       "      <td>Low</td>\n",
       "    </tr>\n",
       "    <tr>\n",
       "      <th>5</th>\n",
       "      <td>6</td>\n",
       "      <td>Female</td>\n",
       "      <td>22.0</td>\n",
       "      <td>17.0</td>\n",
       "      <td>76.0</td>\n",
       "      <td>Low</td>\n",
       "    </tr>\n",
       "    <tr>\n",
       "      <th>6</th>\n",
       "      <td>7</td>\n",
       "      <td>Female</td>\n",
       "      <td>35.0</td>\n",
       "      <td>18.0</td>\n",
       "      <td>6.0</td>\n",
       "      <td>Low</td>\n",
       "    </tr>\n",
       "    <tr>\n",
       "      <th>7</th>\n",
       "      <td>8</td>\n",
       "      <td>Female</td>\n",
       "      <td>23.0</td>\n",
       "      <td>18.0</td>\n",
       "      <td>94.0</td>\n",
       "      <td>Low</td>\n",
       "    </tr>\n",
       "    <tr>\n",
       "      <th>...</th>\n",
       "      <td>...</td>\n",
       "      <td>...</td>\n",
       "      <td>...</td>\n",
       "      <td>...</td>\n",
       "      <td>...</td>\n",
       "      <td>...</td>\n",
       "    </tr>\n",
       "    <tr>\n",
       "      <th>195</th>\n",
       "      <td>196</td>\n",
       "      <td>Female</td>\n",
       "      <td>35.0</td>\n",
       "      <td>120.0</td>\n",
       "      <td>79.0</td>\n",
       "      <td>High</td>\n",
       "    </tr>\n",
       "    <tr>\n",
       "      <th>196</th>\n",
       "      <td>197</td>\n",
       "      <td>Female</td>\n",
       "      <td>45.0</td>\n",
       "      <td>126.0</td>\n",
       "      <td>28.0</td>\n",
       "      <td>High</td>\n",
       "    </tr>\n",
       "    <tr>\n",
       "      <th>197</th>\n",
       "      <td>198</td>\n",
       "      <td>Male</td>\n",
       "      <td>32.0</td>\n",
       "      <td>126.0</td>\n",
       "      <td>74.0</td>\n",
       "      <td>High</td>\n",
       "    </tr>\n",
       "    <tr>\n",
       "      <th>198</th>\n",
       "      <td>199</td>\n",
       "      <td>Male</td>\n",
       "      <td>32.0</td>\n",
       "      <td>137.0</td>\n",
       "      <td>18.0</td>\n",
       "      <td>High</td>\n",
       "    </tr>\n",
       "    <tr>\n",
       "      <th>199</th>\n",
       "      <td>200</td>\n",
       "      <td>Male</td>\n",
       "      <td>30.0</td>\n",
       "      <td>137.0</td>\n",
       "      <td>83.0</td>\n",
       "      <td>High</td>\n",
       "    </tr>\n",
       "  </tbody>\n",
       "</table>\n",
       "<p>150 rows × 6 columns</p>\n",
       "</div>"
      ],
      "text/plain": [
       "     CustomerID  Gender   Age  Annual Income (k$)  Spending Score (1-100)  \\\n",
       "0             1    Male  19.0                15.0                    39.0   \n",
       "2             3  Female  20.0                16.0                     6.0   \n",
       "5             6  Female  22.0                17.0                    76.0   \n",
       "6             7  Female  35.0                18.0                     6.0   \n",
       "7             8  Female  23.0                18.0                    94.0   \n",
       "..          ...     ...   ...                 ...                     ...   \n",
       "195         196  Female  35.0               120.0                    79.0   \n",
       "196         197  Female  45.0               126.0                    28.0   \n",
       "197         198    Male  32.0               126.0                    74.0   \n",
       "198         199    Male  32.0               137.0                    18.0   \n",
       "199         200    Male  30.0               137.0                    83.0   \n",
       "\n",
       "    Income_Category  \n",
       "0               Low  \n",
       "2               Low  \n",
       "5               Low  \n",
       "6               Low  \n",
       "7               Low  \n",
       "..              ...  \n",
       "195            High  \n",
       "196            High  \n",
       "197            High  \n",
       "198            High  \n",
       "199            High  \n",
       "\n",
       "[150 rows x 6 columns]"
      ]
     },
     "execution_count": 36,
     "metadata": {},
     "output_type": "execute_result"
    }
   ],
   "source": [
    "# Crear copia del DataFrame original\n",
    "df_income = df.copy()\n",
    "\n",
    "# Agregar la nueva columna Income_Category\n",
    "df_income[\"Income_Category\"] = df_income[\"Annual Income (k$)\"].apply(\n",
    "    lambda x: \"Low\" if x < 20 \n",
    "    else \"Medium\" if x < 40 \n",
    "    else \"High\"\n",
    ")\n",
    "\n",
    "df_income"
   ]
  },
  {
   "cell_type": "code",
   "execution_count": 39,
   "id": "6ba3d2e9",
   "metadata": {},
   "outputs": [
    {
     "data": {
      "text/html": [
       "<div>\n",
       "<style scoped>\n",
       "    .dataframe tbody tr th:only-of-type {\n",
       "        vertical-align: middle;\n",
       "    }\n",
       "\n",
       "    .dataframe tbody tr th {\n",
       "        vertical-align: top;\n",
       "    }\n",
       "\n",
       "    .dataframe thead th {\n",
       "        text-align: right;\n",
       "    }\n",
       "</style>\n",
       "<table border=\"1\" class=\"dataframe\">\n",
       "  <thead>\n",
       "    <tr style=\"text-align: right;\">\n",
       "      <th></th>\n",
       "      <th>CustomerID</th>\n",
       "      <th>Gender</th>\n",
       "      <th>Age</th>\n",
       "      <th>Annual Income (k$)</th>\n",
       "      <th>Spending Score (1-100)</th>\n",
       "      <th>Age_Group</th>\n",
       "    </tr>\n",
       "  </thead>\n",
       "  <tbody>\n",
       "    <tr>\n",
       "      <th>0</th>\n",
       "      <td>1</td>\n",
       "      <td>Male</td>\n",
       "      <td>19.0</td>\n",
       "      <td>15.0</td>\n",
       "      <td>39.0</td>\n",
       "      <td>joven</td>\n",
       "    </tr>\n",
       "    <tr>\n",
       "      <th>2</th>\n",
       "      <td>3</td>\n",
       "      <td>Female</td>\n",
       "      <td>20.0</td>\n",
       "      <td>16.0</td>\n",
       "      <td>6.0</td>\n",
       "      <td>joven</td>\n",
       "    </tr>\n",
       "    <tr>\n",
       "      <th>5</th>\n",
       "      <td>6</td>\n",
       "      <td>Female</td>\n",
       "      <td>22.0</td>\n",
       "      <td>17.0</td>\n",
       "      <td>76.0</td>\n",
       "      <td>joven</td>\n",
       "    </tr>\n",
       "    <tr>\n",
       "      <th>6</th>\n",
       "      <td>7</td>\n",
       "      <td>Female</td>\n",
       "      <td>35.0</td>\n",
       "      <td>18.0</td>\n",
       "      <td>6.0</td>\n",
       "      <td>adulto</td>\n",
       "    </tr>\n",
       "    <tr>\n",
       "      <th>7</th>\n",
       "      <td>8</td>\n",
       "      <td>Female</td>\n",
       "      <td>23.0</td>\n",
       "      <td>18.0</td>\n",
       "      <td>94.0</td>\n",
       "      <td>joven</td>\n",
       "    </tr>\n",
       "    <tr>\n",
       "      <th>...</th>\n",
       "      <td>...</td>\n",
       "      <td>...</td>\n",
       "      <td>...</td>\n",
       "      <td>...</td>\n",
       "      <td>...</td>\n",
       "      <td>...</td>\n",
       "    </tr>\n",
       "    <tr>\n",
       "      <th>195</th>\n",
       "      <td>196</td>\n",
       "      <td>Female</td>\n",
       "      <td>35.0</td>\n",
       "      <td>120.0</td>\n",
       "      <td>79.0</td>\n",
       "      <td>adulto</td>\n",
       "    </tr>\n",
       "    <tr>\n",
       "      <th>196</th>\n",
       "      <td>197</td>\n",
       "      <td>Female</td>\n",
       "      <td>45.0</td>\n",
       "      <td>126.0</td>\n",
       "      <td>28.0</td>\n",
       "      <td>adulto</td>\n",
       "    </tr>\n",
       "    <tr>\n",
       "      <th>197</th>\n",
       "      <td>198</td>\n",
       "      <td>Male</td>\n",
       "      <td>32.0</td>\n",
       "      <td>126.0</td>\n",
       "      <td>74.0</td>\n",
       "      <td>adulto</td>\n",
       "    </tr>\n",
       "    <tr>\n",
       "      <th>198</th>\n",
       "      <td>199</td>\n",
       "      <td>Male</td>\n",
       "      <td>32.0</td>\n",
       "      <td>137.0</td>\n",
       "      <td>18.0</td>\n",
       "      <td>adulto</td>\n",
       "    </tr>\n",
       "    <tr>\n",
       "      <th>199</th>\n",
       "      <td>200</td>\n",
       "      <td>Male</td>\n",
       "      <td>30.0</td>\n",
       "      <td>137.0</td>\n",
       "      <td>83.0</td>\n",
       "      <td>adulto</td>\n",
       "    </tr>\n",
       "  </tbody>\n",
       "</table>\n",
       "<p>150 rows × 6 columns</p>\n",
       "</div>"
      ],
      "text/plain": [
       "     CustomerID  Gender   Age  Annual Income (k$)  Spending Score (1-100)  \\\n",
       "0             1    Male  19.0                15.0                    39.0   \n",
       "2             3  Female  20.0                16.0                     6.0   \n",
       "5             6  Female  22.0                17.0                    76.0   \n",
       "6             7  Female  35.0                18.0                     6.0   \n",
       "7             8  Female  23.0                18.0                    94.0   \n",
       "..          ...     ...   ...                 ...                     ...   \n",
       "195         196  Female  35.0               120.0                    79.0   \n",
       "196         197  Female  45.0               126.0                    28.0   \n",
       "197         198    Male  32.0               126.0                    74.0   \n",
       "198         199    Male  32.0               137.0                    18.0   \n",
       "199         200    Male  30.0               137.0                    83.0   \n",
       "\n",
       "    Age_Group  \n",
       "0       joven  \n",
       "2       joven  \n",
       "5       joven  \n",
       "6      adulto  \n",
       "7       joven  \n",
       "..        ...  \n",
       "195    adulto  \n",
       "196    adulto  \n",
       "197    adulto  \n",
       "198    adulto  \n",
       "199    adulto  \n",
       "\n",
       "[150 rows x 6 columns]"
      ]
     },
     "execution_count": 39,
     "metadata": {},
     "output_type": "execute_result"
    }
   ],
   "source": [
    "df_age_group = df.copy()\n",
    "\n",
    "df_age_group[\"Age_Group\"] = df_age_group[\"Age\"].apply(\n",
    "    lambda x: \"joven\" if x < 30\n",
    "    else \"adulto\" if x < 50\n",
    "    else \"mayor\"\n",
    ")\n",
    "\n",
    "df_age_group"
   ]
  }
 ],
 "metadata": {
  "kernelspec": {
   "display_name": ".venv (3.13.5)",
   "language": "python",
   "name": "python3"
  },
  "language_info": {
   "codemirror_mode": {
    "name": "ipython",
    "version": 3
   },
   "file_extension": ".py",
   "mimetype": "text/x-python",
   "name": "python",
   "nbconvert_exporter": "python",
   "pygments_lexer": "ipython3",
   "version": "3.13.5"
  }
 },
 "nbformat": 4,
 "nbformat_minor": 5
}
